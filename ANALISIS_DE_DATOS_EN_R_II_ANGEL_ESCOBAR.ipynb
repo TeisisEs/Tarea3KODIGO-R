{
  "cells": [
    {
      "cell_type": "markdown",
      "metadata": {
        "id": "view-in-github",
        "colab_type": "text"
      },
      "source": [
        "<a href=\"https://colab.research.google.com/github/TeisisEs/Tarea3KODIGO-R/blob/main/ANALISIS_DE_DATOS_EN_R_II_ANGEL_ESCOBAR.ipynb\" target=\"_parent\"><img src=\"https://colab.research.google.com/assets/colab-badge.svg\" alt=\"Open In Colab\"/></a>"
      ]
    },
    {
      "cell_type": "markdown",
      "id": "tc3DMmNsSUH0",
      "metadata": {
        "id": "tc3DMmNsSUH0"
      },
      "source": [
        "# Resumen de los principales comandos utilizados en R\n",
        "\n",
        "| **Comando**               | **Descripción**                                                                                                                                                     | **Ejemplo de Uso**                                                                                  |\n",
        "|---------------------------|---------------------------------------------------------------------------------------------------------------------------------------------------------------------|----------------------------------------------------------------------------------------------------|\n",
        "| `library()`               | Carga una librería o paquete para usar sus funciones en R.                                                                                                         | `library(dplyr)`                                                                                  |\n",
        "| `suppressMessages()`      | Ejecuta un comando suprimiendo los mensajes informativos o de advertencia.                                                                                         | `suppressMessages(library(dplyr))`                                                                |\n",
        "| `options()`               | Establece opciones globales en R para personalizar el comportamiento de ciertas funciones o paquetes.                                                              | `options(readr.show_types = FALSE)`                                                               |\n",
        "| `read_csv()`              | Lee un archivo CSV y lo convierte en un tibble o `data.frame`.                                                                                                     | `df <- read_csv('data/file.csv')`                                                                 |\n",
        "| `read_excel()`            | Lee un archivo Excel (.xlsx o .xls) y lo convierte en un tibble o `data.frame`.                                                                                     | `df <- read_excel('data/file.xlsx')`                                                              |\n",
        "| `read_tsv()`              | Lee un archivo TSV y lo convierte en un tibble o `data.frame`.                                                                                                     | `df <- read_tsv('data/file.tsv')`                                                                 |\n",
        "| `inner_join()`            | Combina dos tibbles o `data.frames` manteniendo solo las filas con valores coincidentes en una clave común.                                                         | `result <- df1 %>% inner_join(df2, by = \"id\")`                                                    |\n",
        "| `mutate()`                | Crea o modifica columnas en un tibble o `data.frame`.                                                                                                              | `df <- df %>% mutate(new_col = old_col * 2)`                                                      |\n",
        "| `as.Date()`               | Convierte una cadena de texto en un objeto de fecha, especificando el formato.                                                                                      | `df <- df %>% mutate(date_col = as.Date(text_col, format = \"%Y-%m-%d\"))`                          |\n",
        "| `summarize()`             | Crea resúmenes de datos agregados, como promedios, mínimos o máximos, agrupados opcionalmente por una columna.                                                      | `summary <- df %>% summarize(avg_value = mean(value))`                                            |\n",
        "| `str_to_lower()`          | Convierte cadenas de texto a minúsculas, útil para estandarizar valores.                                                                                            | `df <- df %>% mutate(clean_text = str_to_lower(text_col))`                                         |\n",
        "| `str_remove()`            | Elimina patrones específicos de una cadena de texto.                                                                                                               | `df <- df %>% mutate(clean_price = str_remove(price, \" dollars\"))`                                |\n",
        "| `count()`                 | Cuenta las ocurrencias de valores únicos en una columna.                                                                                                           | `counts <- df %>% count(column_name)`                                                             |\n",
        "| `filter()`                | Filtra filas de un tibble o `data.frame` según condiciones lógicas.                                                                                                | `df <- df %>% filter(value > 10)`                                                                 |\n",
        "| `select()`                | Selecciona columnas específicas de un tibble o `data.frame`.                                                                                                       | `df <- df %>% select(col1, col2)`                                                                 |\n",
        "| `arrange()`               | Ordena filas en función de una o más columnas, en orden ascendente o descendente.                                                                                   | `df <- df %>% arrange(desc(col1))`                                                                |\n",
        "| `group_by()`              | Agrupa filas en categorías, permitiendo realizar operaciones agrupadas.                                                                                            | `df_grouped <- df %>% group_by(category_col)`                                                     |\n",
        "| `mean()`                  | Calcula el promedio de una columna numérica.                                                                                                                       | `average <- mean(df$numeric_col)`                                                                 |\n",
        "| `min()`                   | Encuentra el valor mínimo de una columna.                                                                                                                          | `minimum <- min(df$numeric_col)`                                                                  |\n",
        "| `max()`                   | Encuentra el valor máximo de una columna.                                                                                                                          | `maximum <- max(df$numeric_col)`                                                                  |\n",
        "| `round()`                 | Redondea valores numéricos a un número especificado de decimales.                                                                                                  | `df <- df %>% mutate(rounded_col = round(numeric_col, 2))`                                        |\n",
        "| `glimpse()`               | Muestra una vista rápida de las columnas y tipos de datos en un tibble o `data.frame`.                                                                              | `glimpse(df)`                                                                                     |\n",
        "| `head()`                  | Muestra las primeras filas de un tibble o `data.frame`.                                                                                                            | `head(df)`                                                                                        |\n",
        "| `tail()`                  | Muestra las últimas filas de un tibble o `data.frame`.                                                                                                             | `tail(df)`                                                                                        |\n",
        "| `as.numeric()`            | Convierte valores a formato numérico.                                                                                                                              | `df <- df %>% mutate(numeric_col = as.numeric(text_col))`                                         |\n",
        "| `print()`                 | Muestra el contenido de un objeto en la consola.                                                                                                                   | `print(df)`                                                                                       |\n",
        "| `nrow()`                  | Devuelve el número de filas en un tibble o `data.frame`.                                                                                                           | `total_rows <- nrow(df)`                                                                          |\n",
        "| `ncol()`                  | Devuelve el número de columnas en un tibble o `data.frame`.                                                                                                        | `total_columns <- ncol(df)`                                                                       |\n",
        "| `paste()`                 | Combina cadenas de texto con un separador específico.                                                                                                              | `df <- df %>% mutate(full_name = paste(first_name, last_name, sep = \" \"))`                        |\n",
        "| `unique()`                | Extrae los valores únicos de una columna o vector.                                                                                                                 | `unique_values <- unique(df$column_name)`                                                         |\n",
        "| `length()`                | Devuelve la longitud de un vector o el número de elementos en un objeto.                                                                                           | `num_elements <- length(df$column_name)`                                                          |\n",
        "| `tibble()`                | Crea un tibble manualmente.                                                                                                                                        | `df <- tibble(id = c(1, 2), name = c(\"Alice\", \"Bob\"))`                                            |\n"
      ]
    },
    {
      "cell_type": "markdown",
      "id": "ESPG5yduS29f",
      "metadata": {
        "id": "ESPG5yduS29f"
      },
      "source": [
        "# Tabla de Comandos para Joins en R con `dplyr`\n",
        "\n",
        "| **Comando**         | **Descripción**                                                                                     | **Ejemplo de Uso**                                | **Resultado Simplificado**                                                                 |\n",
        "|---------------------|-----------------------------------------------------------------------------------------------------|--------------------------------------------------|-------------------------------------------------------------------------------------------|\n",
        "| `inner_join()`      | Mantiene solo las filas con claves coincidentes en ambas tablas.                                    | `df1 %>% inner_join(df2, by = \"id\")`             | Filas comunes entre las dos tablas.                                                      |\n",
        "| `left_join()`       | Mantiene todas las filas de la tabla izquierda y agrega las columnas de la derecha si coinciden.    | `df1 %>% left_join(df2, by = \"id\")`              | Todas las filas de la tabla izquierda, con datos faltantes (`NA`) si no hay coincidencia. |\n",
        "| `right_join()`      | Mantiene todas las filas de la tabla derecha y agrega las columnas de la izquierda si coinciden.    | `df1 %>% right_join(df2, by = \"id\")`             | Todas las filas de la tabla derecha, con datos faltantes (`NA`) si no hay coincidencia.   |\n",
        "| `full_join()`       | Mantiene todas las filas de ambas tablas, combinando datos donde coincidan las claves.              | `df1 %>% full_join(df2, by = \"id\")`              | Todas las filas de ambas tablas, con datos faltantes (`NA`) donde no coincidan las claves.|\n",
        "| `anti_join()`       | Devuelve las filas de la tabla izquierda que no tienen coincidencia en la derecha.                  | `df1 %>% anti_join(df2, by = \"id\")`              | Filas de la izquierda que no aparecen en la derecha.                                      |\n",
        "| `semi_join()`       | Devuelve las filas de la tabla izquierda que tienen coincidencia en la tabla derecha.               | `df1 %>% semi_join(df2, by = \"id\")`              | Filas de la izquierda que aparecen en la derecha.                                         |\n",
        "\n",
        "---\n",
        "\n",
        "## Ejemplo de Tablas y Resultados para Joins\n",
        "\n",
        "### Tablas de Entrada\n",
        "\n",
        "**Tabla 1 (`df1`):**\n",
        "\n",
        "| id | nombre  |\n",
        "|----|---------|\n",
        "| 1  | Alice   |\n",
        "| 2  | Bob     |\n",
        "| 3  | Charlie |\n",
        "\n",
        "**Tabla 2 (`df2`):**\n",
        "\n",
        "| id | ciudad     |\n",
        "|----|------------|\n",
        "| 2  | Nueva York |\n",
        "| 3  | Londres    |\n",
        "| 4  | París      |\n",
        "\n",
        "---\n",
        "\n",
        "### Resultados para Cada Join\n",
        "\n",
        "1. **`inner_join(df1, df2, by = \"id\")`**  \n",
        "   Mantiene solo las filas con coincidencias en ambas tablas:\n",
        "\n",
        "\n",
        "   | id | nombre  | ciudad     |\n",
        "   |----|---------|------------|\n",
        "   | 2  | Bob     | Nueva York |\n",
        "   | 3  | Charlie | Londres    |\n",
        "\n",
        "2. **`left_join(df1, df2, by = \"id\")`**  \n",
        "   Todas las filas de la tabla izquierda (`df1`), con datos de la derecha donde coincidan las claves:\n",
        "\n",
        "\n",
        "   | id | nombre  | ciudad     |\n",
        "   |----|---------|------------|\n",
        "   | 1  | Alice   | NA         |\n",
        "   | 2  | Bob     | Nueva York |\n",
        "   | 3  | Charlie | Londres    |\n",
        "\n",
        "3. **`right_join(df1, df2, by = \"id\")`**  \n",
        "   Todas las filas de la tabla derecha (`df2`), con datos de la izquierda donde coincidan las claves:\n",
        "\n",
        "\n",
        "   | id | nombre  | ciudad     |\n",
        "   |----|---------|------------|\n",
        "   | 2  | Bob     | Nueva York |\n",
        "   | 3  | Charlie | Londres    |\n",
        "   | 4  | NA      | París      |\n",
        "\n",
        "4. **`full_join(df1, df2, by = \"id\")`**  \n",
        "   Todas las filas de ambas tablas:\n",
        "\n",
        "\n",
        "   | id | nombre  | ciudad     |\n",
        "   |----|---------|------------|\n",
        "   | 1  | Alice   | NA         |\n",
        "   | 2  | Bob     | Nueva York |\n",
        "   | 3  | Charlie | Londres    |\n",
        "   | 4  | NA      | París      |\n",
        "\n",
        "5. **`anti_join(df1, df2, by = \"id\")`**  \n",
        "   Filas de la izquierda que no tienen coincidencia en la derecha:\n",
        "\n",
        "\n",
        "   | id | nombre  |\n",
        "   |----|---------|\n",
        "   | 1  | Alice   |\n",
        "\n",
        "6. **`semi_join(df1, df2, by = \"id\")`**  \n",
        "   Filas de la izquierda que tienen coincidencia en la derecha:\n",
        "\n",
        "\n",
        "   | id | nombre  |\n",
        "   |----|---------|\n",
        "   | 2  | Bob     |\n",
        "   | 3  | Charlie |\n"
      ]
    },
    {
      "cell_type": "markdown",
      "id": "EhZln9hYWPXt",
      "metadata": {
        "id": "EhZln9hYWPXt"
      },
      "source": [
        "# Explicación del Operador `%>%` en R\n",
        "\n",
        "El operador `%>%`, también conocido como **pipe**, es una herramienta que permite encadenar funciones de manera legible y estructurada. Es parte del paquete **`magrittr`**, que está incluido en **`tidyverse`**, y no forma parte del R base (nativo).\n",
        "\n",
        "---\n",
        "\n",
        "## Características del Operador `%>%`\n",
        "\n",
        "1. **Encadena Funciones**:\n",
        "   - Permite aplicar una serie de operaciones secuencialmente, enviando el resultado de una función como entrada de la siguiente.\n",
        "   - Mejora la legibilidad del código.\n",
        "\n",
        "2. **Simplifica la Sintaxis**:\n",
        "   - Elimina la necesidad de usar variables temporales o anidar múltiples funciones.\n",
        "\n",
        "3. **Compatibilidad**:\n",
        "   - Funciona principalmente con librerías del `tidyverse` como `dplyr`, `tidyr`, y `ggplot2`.\n",
        "   - Puede usarse en cualquier función en R que acepte un argumento de entrada explícito.\n",
        "\n",
        "---\n",
        "\n",
        "## Ejemplo General de Uso\n",
        "\n",
        "```r\n",
        "# Sin usar %>%\n",
        "result <- as.numeric(str_remove(price, \" dollars\"))\n",
        "```\n",
        "\n",
        "```r\n",
        "# Usando %>% para simplificar y mejorar la legibilidad\n",
        "result <- price %>%\n",
        "  str_remove(\" dollars\") %>%\n",
        "  as.numeric()\n",
        "```\n",
        "\n",
        "---\n",
        "\n",
        "## Tabla: Cuándo y Dónde Usar `%>%`\n",
        "\n",
        "| **Característica**           | **Descripción**                                                                                                     | **Ejemplo**                                                                                             |\n",
        "|------------------------------|---------------------------------------------------------------------------------------------------------------------|---------------------------------------------------------------------------------------------------------|\n",
        "| **Propósito**                | Enviar el resultado de una operación como entrada a la siguiente función.                                           | `df %>% mutate(new_col = old_col * 2) %>% summarize(mean(new_col))`                                     |\n",
        "| **Uso Principal**            | Se utiliza con funciones del `tidyverse` o cualquier función que acepte un argumento explícito.                     | `listings %>% filter(price > 100) %>% select(id, price)`                                                |\n",
        "| **Requisitos**               | Requiere cargar el paquete `magrittr` (o `tidyverse`).                                                              | `library(dplyr)`                                                                                        |\n",
        "| **R Base vs. tidyverse**     | No es parte de R nativo, pero puede usarse fuera del `tidyverse` con funciones adecuadas.                           | `vec %>% log() %>% sqrt()`                                                                              |\n",
        "| **Alternativa en R Base**    | Sin `%>%`, se pueden encadenar funciones anidándolas, pero esto puede reducir la legibilidad.                       | `sqrt(log(vec))`                                                                                        |\n",
        "\n",
        "---\n",
        "\n",
        "## Ejemplo del Código Original\n",
        "\n",
        "```r\n",
        "avg_price <- listings %>%\n",
        "  mutate(price_clean = str_remove(price, \" dollars\") %>% # Limpia la columna \"price\" eliminando la palabra \"dollars\".\n",
        "        as.numeric()) %>%                               # Convierte el resultado a formato numérico.\n",
        "  summarize(avg_price = mean(price_clean))              # Calcula el promedio de la columna limpia.\n",
        "```\n",
        "\n",
        "### Desglose:\n",
        "\n",
        "1. `listings %>%`  \n",
        "   - El tibble `listings` es la entrada inicial para las operaciones.\n",
        "\n",
        "2. `mutate(price_clean = str_remove(price, \" dollars\") %>% as.numeric())`  \n",
        "   - Limpia los valores de `price`, eliminando \"dollars\", y convierte la columna resultante a numérica.\n",
        "\n",
        "3. `summarize(avg_price = mean(price_clean))`  \n",
        "   - Calcula el promedio (`mean()`) de la columna `price_clean`.\n",
        "\n",
        "Este ejemplo ilustra cómo el operador `%>%` mejora la claridad del código al evitar variables intermedias y anidaciones complejas.\n",
        "\n",
        "---\n",
        "\n",
        "# ¿Qué es un Tibble en R?\n",
        "\n",
        "Un **tibble** es una versión mejorada de un `data.frame` en R, diseñada para ser más legible y fácil de usar. Los tibbles son parte del paquete `tibble`, que está integrado en el ecosistema de `tidyverse`. A continuación, se describen sus principales características:\n",
        "\n",
        "---\n",
        "\n",
        "## Principales Características de un Tibble\n",
        "\n",
        "1. **Impresión Mejorada**:\n",
        "   - Muestra un número limitado de filas y columnas para evitar sobrecargar la consola.\n",
        "   - Indica el número de filas y columnas adicionales con mensajes como \"y x más variables\".\n",
        "   - No cambia el formato de los datos al mostrarlos.\n",
        "\n",
        "2. **Sin Conversión Automática de Tipos**:\n",
        "   - A diferencia de un `data.frame`, un tibble no convierte automáticamente cadenas de texto en factores.\n",
        "\n",
        "3. **Compatibilidad con el Ecosistema Tidyverse**:\n",
        "   - Los tibbles funcionan de manera óptima con funciones del `tidyverse`, como `dplyr` y `ggplot2`.\n",
        "\n",
        "4. **Columnas con Datos Complejos**:\n",
        "   - Permiten incluir listas o funciones como columnas.\n",
        "\n",
        "---\n",
        "\n",
        "## Ventajas frente a un `data.frame`\n",
        "\n",
        "| **Característica**        | **Tibble**                          | **data.frame**                     |\n",
        "|---------------------------|--------------------------------------|-------------------------------------|\n",
        "| Manejo de impresión       | Muestra un resumen legible          | Puede imprimir todo el conjunto de datos, sobrecargando la consola. |\n",
        "| Conversión automática     | No convierte cadenas en factores    | Convierte cadenas en factores por defecto. |\n",
        "| Flexibilidad de columnas  | Permite listas y datos complejos    | Restringido a vectores simples.    |\n",
        "\n",
        "---\n",
        "\n",
        "## Ejemplo de Creación de un Tibble\n",
        "\n",
        "Puedes crear un tibble manualmente o convertir un `data.frame` existente en tibble.\n",
        "\n",
        "### Crear un Tibble desde Cero\n",
        "```r\n",
        "library(tibble)\n",
        "\n",
        "# Crear un tibble manualmente\n",
        "mi_tibble <- tibble(\n",
        "  id = c(1, 2, 3),\n",
        "  nombre = c(\"Alice\", \"Bob\", \"Charlie\"),\n",
        "  edad = c(25, 30, 35)\n",
        ")\n",
        "\n",
        "print(mi_tibble)\n",
        "```\n",
        "\n",
        "### Convertir un data.frame en Tibble\n",
        "```r\n",
        "# Crear un data.frame\n",
        "mi_data_frame <- data.frame(\n",
        "  id = c(1, 2, 3),\n",
        "  nombre = c(\"Alice\", \"Bob\", \"Charlie\"),\n",
        "  edad = c(25, 30, 35)\n",
        ")\n",
        "\n",
        "# Convertir a tibble\n",
        "mi_tibble <- as_tibble(mi_data_frame)\n",
        "\n",
        "print(mi_tibble)\n",
        "```\n",
        "\n",
        "---\n",
        "\n",
        "## Resultado de un Tibble\n",
        "\n",
        "Al imprimir, un tibble puede verse así:\n",
        "```\n",
        "# A tibble: 3 × 3\n",
        "     id nombre    edad\n",
        "  <dbl> <chr>    <dbl>\n",
        "1     1 Alice       25\n",
        "2     2 Bob         30\n",
        "3     3 Charlie     35\n",
        "```\n",
        "\n",
        "Este formato compacto y estructurado facilita la lectura y análisis de datos en R.\n"
      ]
    },
    {
      "cell_type": "markdown",
      "id": "T2nlrHYSXC0J",
      "metadata": {
        "id": "T2nlrHYSXC0J"
      },
      "source": [
        "# Trabajo con Cadenas de Texto y Fechas en R\n",
        "\n",
        "En R, las cadenas de texto y las fechas son tipos de datos comunes y tienen muchas funciones dedicadas para manipularlas de manera eficiente. Estas tareas suelen incluir limpieza, transformación, formato y análisis.\n",
        "\n",
        "---\n",
        "\n",
        "## 1. **Cadenas de Texto en R**\n",
        "\n",
        "Las cadenas de texto en R se manejan principalmente a través de funciones del paquete base y el paquete `stringr` del `tidyverse`.\n",
        "\n",
        "### Principales Funciones para Manipular Texto\n",
        "\n",
        "| **Función**            | **Descripción**                                                                                   | **Ejemplo**                                          |\n",
        "|--------------------------|-----------------------------------------------------------------------------------------------------|----------------------------------------------------|\n",
        "| `nchar()`                | Devuelve la cantidad de caracteres de una cadena.                                                  | `nchar(\"Hola\")` -> `4`                            |\n",
        "| `toupper()`              | Convierte texto a mayúsculas.                                                                      | `toupper(\"hola\")` -> `\"HOLA\"`                   |\n",
        "| `tolower()`              | Convierte texto a minúsculas.                                                                      | `tolower(\"HOLA\")` -> `\"hola\"`                   |\n",
        "| `substr()`               | Extrae o reemplaza una subcadena de una cadena.                                                    | `substr(\"Hola Mundo\", 1, 4)` -> `\"Hola\"`        |\n",
        "| `paste()` / `paste0()`   | Combina varias cadenas de texto.                                                                   | `paste(\"Hola\", \"Mundo\")` -> `\"Hola Mundo\"`     |\n",
        "| `str_detect()`           | Verifica si un patrón está presente en una cadena (requiere `stringr`).                          | `str_detect(\"Hola Mundo\", \"Mundo\")` -> `TRUE`   |\n",
        "| `str_replace()`          | Reemplaza el primer patrón encontrado en una cadena.                                               | `str_replace(\"Hola Mundo\", \"Mundo\", \"R\")` -> `\"Hola R\"` |\n",
        "| `str_remove()`           | Elimina un patrón de una cadena.                                                                   | `str_remove(\"Hola Mundo\", \"Mundo\")` -> `\"Hola \"` |\n",
        "| `str_split()`            | Divide una cadena en una lista basada en un separador.                                             | `str_split(\"a,b,c\", \",\")` -> `c(\"a\", \"b\", \"c\")` |\n",
        "\n",
        "### Ejemplo Práctico\n",
        "\n",
        "```r\n",
        "library(stringr)\n",
        "\n",
        "texto <- \"Hola Mundo\"\n",
        "# Convertir a mayúsculas\n",
        "mayusculas <- toupper(texto)\n",
        "# Reemplazar \"Mundo\" con \"R\"\n",
        "reemplazo <- str_replace(texto, \"Mundo\", \"R\")\n",
        "\n",
        "print(mayusculas)  # \"HOLA MUNDO\"\n",
        "print(reemplazo)   # \"Hola R\"\n",
        "```\n",
        "\n",
        "---\n",
        "\n",
        "## 2. **Fechas en R**\n",
        "\n",
        "Las fechas y tiempos en R se representan con clases como `Date` y `POSIXct`. Las funciones del paquete base y `lubridate` del `tidyverse` facilitan su manejo.\n",
        "\n",
        "### Principales Clases de Fechas\n",
        "\n",
        "| **Clase**   | **Descripción**                                       |\n",
        "|-------------|-------------------------------------------------------|\n",
        "| `Date`      | Representa fechas sin tiempo. Ejemplo: `\"2024-12-05\"`|\n",
        "| `POSIXct`   | Representa fechas y horas en formato compacto.        |\n",
        "| `POSIXlt`   | Representa fechas y horas como una lista de componentes. |\n",
        "\n",
        "### Principales Funciones para Manipular Fechas\n",
        "\n",
        "| **Función**               | **Descripción**                                                                 | **Ejemplo**                                                      |\n",
        "|----------------------------|-----------------------------------------------------------------------------|------------------------------------------------------------------|\n",
        "| `Sys.Date()`               | Devuelve la fecha actual en formato `Date`.                                | `Sys.Date()` -> `\"2024-12-05\"`                                 |\n",
        "| `Sys.time()`               | Devuelve la fecha y hora actual en formato `POSIXct`.                      | `Sys.time()` -> `\"2024-12-05 14:30:00\"`                        |\n",
        "| `as.Date()`                | Convierte texto en un objeto `Date`.                                       | `as.Date(\"05-12-2024\", format = \"%d-%m-%Y\")` -> `\"2024-12-05\"` |\n",
        "| `as.POSIXct()`             | Convierte texto en un objeto `POSIXct`.                                    | `as.POSIXct(\"2024-12-05 14:30:00\")`                           |\n",
        "| `format()`                 | Da formato a fechas en cadenas de texto.                                   | `format(Sys.Date(), \"%d/%m/%Y\")` -> `\"05/12/2024\"`           |\n",
        "| `difftime()`               | Calcula la diferencia entre dos fechas.                                    | `difftime(as.Date(\"2024-12-06\"), Sys.Date())` -> `\"1 day\"`   |\n",
        "| `ymd()`, `dmy()`, `mdy()`  | Convierte texto en fechas según su formato (requiere `lubridate`).             | `ymd(\"2024-12-05\")` -> `\"2024-12-05\"`                       |\n",
        "\n",
        "### Ejemplo Práctico\n",
        "\n",
        "```r\n",
        "library(lubridate)\n",
        "\n",
        "# Fecha actual\n",
        "hoy <- Sys.Date()\n",
        "\n",
        "# Convertir texto en fecha\n",
        "fecha <- ymd(\"2024-12-05\")\n",
        "\n",
        "# Calcular diferencia en días\n",
        "dias_diferencia <- as.numeric(difftime(fecha, hoy, units = \"days\"))\n",
        "\n",
        "print(hoy)              # \"2024-12-05\"\n",
        "print(fecha)            # \"2024-12-05\"\n",
        "print(dias_diferencia)  # Ejemplo: \"0\"\n",
        "```\n",
        "\n",
        "---\n",
        "\n",
        "## Tips para Trabajar con Cadenas y Fechas\n",
        "\n",
        "1. **Limpieza de Datos**:\n",
        "   - Usa `str_remove()` o `str_replace()` para eliminar o sustituir texto no deseado.\n",
        "   - Convierte cadenas de texto a minúsculas o mayúsculas para estandarizar los datos.\n",
        "\n",
        "2. **Formato de Fechas**:\n",
        "   - Siempre especifica el formato al convertir texto a fechas con `as.Date()` o `lubridate`.\n",
        "\n",
        "3. **Cálculos con Fechas**:\n",
        "   - Usa `difftime()` para calcular diferencias entre fechas.\n",
        "   - Usa `Sys.Date()` y `Sys.time()` para trabajar con la fecha y hora actual.\n",
        "\n",
        "Con estas herramientas y funciones, trabajar con cadenas de texto y fechas en R se vuelve más sencillo y eficiente.\n"
      ]
    },
    {
      "cell_type": "markdown",
      "id": "BkP-U-IiZLyv",
      "metadata": {
        "id": "BkP-U-IiZLyv"
      },
      "source": [
        "# Resumen de Comandos Utilizados en el Tidyverse\n",
        "\n",
        "| **Comando**                         | **Descripción**                                                                                                               | **Ejemplo**                                                                                              |\n",
        "|-------------------------------------|-------------------------------------------------------------------------------------------------------------------------------|----------------------------------------------------------------------------------------------------------|\n",
        "| `library(tidyverse)`                | Carga el paquete `tidyverse`, que incluye librerías como `dplyr`, `ggplot2`, y `readr` para análisis y visualización de datos. | `library(tidyverse)`                                                                                     |\n",
        "| `read_csv()`                        | Lee un archivo CSV y lo convierte en un tibble.                                                                               | `bike_data <- read_csv(\"data/Cleaned_Bicycle_Thefts_Open_Data.csv\")`                                      |\n",
        "| `head()`                            | Muestra las primeras filas de un data frame o tibble para obtener una vista rápida de los datos.                              | `head(bike_data)`                                                                                        |\n",
        "| `group_by()`                        | Agrupa filas de un tibble según una o más columnas, útil para operaciones resumidas.                                          | `bike_data %>% group_by(quarter)`                                                                        |\n",
        "| `summarize()`                       | Crea resúmenes de datos, como conteos o promedios, basados en las columnas agrupadas.                                         | `summarize(total_per_quarter = n())`                                                                     |\n",
        "| `mutate()`                          | Crea o modifica columnas dentro de un tibble.                                                                                 | `mutate(percentage_per_location = total_per_location / total_all_location)`                              |\n",
        "| `ggplot()`                          | Inicializa una visualización con el paquete `ggplot2`.                                                                        | `ggplot(aes(x = quarter, y = total_per_quarter))`                                                        |\n",
        "| `geom_point()`                      | Agrega puntos a un gráfico.                                                                                                   | `geom_point()`                                                                                           |\n",
        "| `geom_smooth()`                     | Agrega una línea suavizada a un gráfico, con opciones para ajustar el nivel de confianza o el grado de suavizado.             | `geom_smooth(span = 0.1, se = FALSE)`                                                                    |\n",
        "| `labs()`                            | Agrega etiquetas, títulos y subtítulos a un gráfico creado con `ggplot2`.                                                     | `labs(title = \"Quarterly Trends in Bike Thefts\", y = \"The Number of Stolen Bikes\")`                      |\n",
        "| `geom_col()`                        | Crea gráficos de barras para visualización de datos categóricos.                                                              | `geom_col()`                                                                                             |\n",
        "| `coord_polar()`                     | Transforma un gráfico de barras en un gráfico circular o de tipo rosquilla.                                                   | `coord_polar(theta = \"y\")`                                                                               |\n",
        "| `theme_void()`                      | Elimina elementos visuales innecesarios en un gráfico, como ejes o líneas de cuadrícula.                                      | `theme_void()`                                                                                           |\n",
        "| `geom_text()`                       | Agrega etiquetas de texto a un gráfico, con opciones para personalizar posición y opacidad.                                   | `geom_text(aes(label = round(percentage_per_location, 2)), position = position_stack(vjust = 0.5))`      |\n",
        "| `median()`                          | Calcula la mediana de una columna numérica.                                                                                   | `median(bike_cost, na.rm = TRUE)`                                                                        |\n",
        "| `geom_point()`                      | Crea un gráfico de dispersión, útil para visualizar relaciones espaciales o geográficas.                                      | `geom_point(aes(x = long, y = lat, color = median_value), size = 4)`                                     |\n",
        "| `geom_text()`                       | Agrega etiquetas de texto a gráficos de dispersión para identificar puntos.                                                   | `geom_text(size = 1.5)`                                                                                  |\n",
        "\n",
        "---\n",
        "\n",
        "## Ejemplo de Uso\n",
        "\n",
        "### Agrupación y Resumen\n",
        "```r\n",
        "bike_data %>%\n",
        "  group_by(quarter) %>%\n",
        "  summarize(total_per_quarter = n())\n"
      ]
    },
    {
      "cell_type": "code",
      "execution_count": null,
      "id": "edOaWFZ0bDUT",
      "metadata": {
        "id": "edOaWFZ0bDUT"
      },
      "outputs": [],
      "source": [
        "library(lubridate)\n",
        "\n",
        "# Fecha actual\n",
        "hoy <- Sys.Date()\n",
        "\n",
        "# Convertir texto en fecha\n",
        "fecha <- ymd(\"2024-12-05\")\n",
        "\n",
        "# Calcular diferencia en días\n",
        "dias_diferencia <- as.numeric(difftime(fecha, hoy, units = \"days\"))\n",
        "\n",
        "print(hoy)              # \"2024-12-05\"\n",
        "print(fecha)            # \"2024-12-05\"\n",
        "print(dias_diferencia)  # Ejemplo: \"0\""
      ]
    },
    {
      "cell_type": "markdown",
      "id": "a138556a-b9d3-4850-ba94-135e7f85f407",
      "metadata": {
        "id": "a138556a-b9d3-4850-ba94-135e7f85f407"
      },
      "source": [
        "# DESAFIO1: Bienvenido a la Ciudad de Nueva York\n",
        "\n",
        "Bienvenido a Nueva York, una de las ciudades más visitadas del mundo. Hay muchas propiedades en Airbnb en Nueva York para satisfacer la alta demanda de alojamientos temporales para los viajeros, que pueden variar desde unas pocas noches hasta varios meses. En este proyecto, analizarás más de cerca el mercado de Airbnb en Nueva York combinando datos de múltiples formatos de archivo como `.csv`, `.tsv` y `.xlsx` (archivos de Excel).\n",
        "\n",
        "Recuerda que los archivos **CSV**, **TSV** y **Excel** son tres formatos comunes para almacenar datos. Tienes disponibles tres archivos con datos de listados de Airbnb de 2019:\n",
        "\n",
        "### **data/airbnb_price.csv**\n",
        "Este es un archivo CSV que contiene información sobre los precios y ubicaciones de los listados de Airbnb.\n",
        "- **`listing_id`**: identificador único del listado\n",
        "- **`price`**: precio por noche del listado en USD\n",
        "- **`nbhood_full`**: nombre del distrito y vecindario donde se encuentra el listado\n",
        "\n",
        "### **data/airbnb_room_type.xlsx**\n",
        "Este es un archivo Excel que contiene información sobre las descripciones y tipos de habitaciones de los listados de Airbnb.\n",
        "- **`listing_id`**: identificador único del listado\n",
        "- **`description`**: descripción del listado\n",
        "- **`room_type`**: Airbnb tiene tres tipos de habitaciones: habitaciones compartidas, habitaciones privadas y casas/apartamentos completos\n",
        "\n",
        "### **data/airbnb_last_review.tsv**\n",
        "Este es un archivo TSV que contiene información sobre los nombres de los anfitriones de Airbnb y las fechas de las reseñas.\n",
        "- **`listing_id`**: identificador único del listado\n",
        "- **`host_name`**: nombre del anfitrión del listado\n",
        "- **`last_review`**: fecha de la última reseña del listado\n"
      ]
    },
    {
      "cell_type": "code",
      "execution_count": null,
      "id": "50766ef4-f69d-4626-978c-fdc67ae8e7af",
      "metadata": {
        "id": "50766ef4-f69d-4626-978c-fdc67ae8e7af"
      },
      "outputs": [],
      "source": [
        "# Carga la librería dplyr para manipulación de datos.\n",
        "# dplyr es útil para filtrar, seleccionar, agrupar y transformar conjuntos de datos de manera eficiente.\n",
        "suppressMessages(library(dplyr))\n",
        "\n",
        "# Establece la opción para que readr no muestre los tipos de columnas al leer archivos.\n",
        "# Esto evita que se impriman mensajes innecesarios en la consola al cargar datos.\n",
        "options(readr.show_types = FALSE)\n",
        "\n",
        "# Carga la librería readr para leer archivos de texto como .csv o .tsv.\n",
        "# readr es conocida por su rendimiento y facilidad de uso al trabajar con archivos de texto estructurado.\n",
        "library(readr)\n",
        "\n",
        "# Carga la librería readxl para leer archivos Excel (.xlsx, .xls).\n",
        "# Permite importar datos desde hojas de cálculo sin necesidad de software externo como Excel.\n",
        "library(readxl)\n",
        "\n",
        "# Carga la librería stringr para manipulación de cadenas de texto.\n",
        "# stringr facilita tareas como buscar, reemplazar y transformar texto con funciones intuitivas.\n",
        "library(stringr)\n"
      ]
    },
    {
      "cell_type": "code",
      "execution_count": null,
      "id": "ROKuCT4HQKIL",
      "metadata": {
        "id": "ROKuCT4HQKIL"
      },
      "outputs": [],
      "source": [
        "# descomprimiendo el archivo data.zip\n",
        "unzip(\"data.zip\")"
      ]
    },
    {
      "cell_type": "markdown",
      "id": "k3bO5m0WSE3w",
      "metadata": {
        "id": "k3bO5m0WSE3w"
      },
      "source": [
        "## Actividad 1: Crea un reporte EDA"
      ]
    },
    {
      "cell_type": "code",
      "execution_count": null,
      "id": "T3IlokVYFZiz",
      "metadata": {
        "id": "T3IlokVYFZiz"
      },
      "outputs": [],
      "source": []
    },
    {
      "cell_type": "code",
      "execution_count": null,
      "id": "gMOuCoXOFfcG",
      "metadata": {
        "id": "gMOuCoXOFfcG"
      },
      "outputs": [],
      "source": [
        "\n",
        "install.packages(\"DataExplorer\")\n",
        "library(DataExplorer)\n"
      ]
    },
    {
      "cell_type": "code",
      "execution_count": null,
      "id": "_kD2eGVABvEg",
      "metadata": {
        "id": "_kD2eGVABvEg"
      },
      "outputs": [],
      "source": [
        "# Leer CSV\n",
        "df <- read.csv(\"/content/airbnb_price.csv\")  # cambia la ruta\n",
        "\n",
        "# Vista rápida\n",
        "head(df)\n"
      ]
    },
    {
      "cell_type": "code",
      "execution_count": null,
      "id": "AY5p9328fDX9",
      "metadata": {
        "id": "AY5p9328fDX9"
      },
      "outputs": [],
      "source": [
        "# Instalar Pandoc\n",
        "system(\"apt-get update\")\n",
        "system(\"apt-get install -y pandoc\")\n",
        "\n",
        "# Verifica instalación\n",
        "system(\"pandoc --version\")\n"
      ]
    },
    {
      "cell_type": "code",
      "execution_count": null,
      "id": "1-wUF4Cvga2J",
      "metadata": {
        "colab": {
          "background_save": true
        },
        "id": "1-wUF4Cvga2J"
      },
      "outputs": [],
      "source": [
        "create_report(df, output_file = \"reporte_eda.html\")\n",
        "\n",
        "# Abrir el reporte en el navegador\n",
        "browseURL(\"reporte_eda.html\")"
      ]
    },
    {
      "cell_type": "markdown",
      "id": "7sdl3UWgSQuU",
      "metadata": {
        "id": "7sdl3UWgSQuU"
      },
      "source": [
        "## Actividad 2: Verifica y corrige errores en las columnas, como valores faltantes, nulos y tipo correcto"
      ]
    },
    {
      "cell_type": "code",
      "execution_count": null,
      "id": "7Ppt4z0dS4jn",
      "metadata": {
        "id": "7Ppt4z0dS4jn"
      },
      "outputs": [],
      "source": [
        "str(df)        # Muestra la estructura del DataFrame\n",
        "glimpse(df)    # (si usas dplyr) Vista más compacta\n"
      ]
    },
    {
      "cell_type": "code",
      "source": [
        "# Si no tienes dplyr\n",
        "install.packages(\"dplyr\")\n",
        "library(dplyr)\n",
        "\n",
        "# Copiar tu data en df (ya cargada)\n",
        "\n",
        "# 1. Limpiar columna price (quitar \"dollars\" y convertir a numérico)\n",
        "df <- df %>%\n",
        "  mutate(price = as.numeric(gsub(\"[^0-9.]\", \"\", price)))\n",
        "\n",
        "# 2. Verificar valores NA en price\n",
        "sum(is.na(df$price))  # Para saber cuántos NA quedan\n",
        "\n",
        "# 3. Eliminar filas con price NA (si quieres)\n",
        "df <- df %>% filter(!is.na(price))\n",
        "\n",
        "# 4. Convertir nbhood_full a factor (mejor para análisis categórico)\n",
        "df <- df %>%\n",
        "  mutate(nbhood_full = as.factor(nbhood_full))\n",
        "\n",
        "# 5. Revisar estructura final\n",
        "str(df)\n",
        "\n",
        "# 6. Resumen rápido\n",
        "summary(df)\n"
      ],
      "metadata": {
        "id": "ooa5FWDp48Fy"
      },
      "id": "ooa5FWDp48Fy",
      "execution_count": null,
      "outputs": []
    },
    {
      "cell_type": "markdown",
      "id": "bEZKZzFSReDw",
      "metadata": {
        "id": "bEZKZzFSReDw"
      },
      "source": [
        "\n",
        "## Actividad 3:  Preguntas de análisis, usa R y las librerias necesarias para contestar las siguientes preguntas.\n",
        "\n",
        "- ¿Cuáles son las fechas de la reseña más antigua y la más reciente?\n",
        "- ¿Cuántos de los listados son habitaciones privadas?\n",
        "- ¿Cuál es el precio promedio de todos los listados (redondeado al centavo más cercano)?\n",
        "- Combina estos cuatro valores en un tibble llamado `review_dates` con cuatro columnas: `first_reviewed`, `last_reviewed`, `nb_private_rooms` y `avg_price`.  \n",
        "El tibble debe contener solo una fila con los valores.\n"
      ]
    },
    {
      "cell_type": "code",
      "execution_count": null,
      "id": "9ZM5jFFfQtTH",
      "metadata": {
        "id": "9ZM5jFFfQtTH",
        "colab": {
          "base_uri": "https://localhost:8080/"
        },
        "outputId": "8ef59e94-92e7-4d55-b810-6fb35b24f139"
      },
      "outputs": [
        {
          "output_type": "stream",
          "name": "stdout",
          "text": [
            "📅 Reseña más antigua: 17897 \n",
            "📅 Reseña más reciente: 18086 \n"
          ]
        }
      ],
      "source": [
        "#¿Cuáles son las fechas de la reseña más antigua y la más reciente?\n",
        "# Asegurarse que last_review sea tipo Date\n",
        "df$last_review <- as.Date(df$last_review, format = \"%B %d %Y\")\n",
        "\n",
        "# Obtener la reseña más antigua y la más reciente\n",
        "first_reviewed <- min(df$last_review, na.rm = TRUE)\n",
        "last_reviewed <- max(df$last_review, na.rm = TRUE)\n",
        "\n",
        "# Mostrar resultados\n",
        "cat(\" Reseña más antigua:\", first_reviewed, \"\\n\")\n",
        "cat(\" Reseña más reciente:\", last_reviewed, \"\\n\")\n"
      ]
    },
    {
      "cell_type": "code",
      "source": [
        "#¿Cuántos de los listados son habitaciones privadas?\n",
        "# Normalizar texto a minúsculas por si hay diferencias\n",
        "df2$room_type <- tolower(df2$room_type)\n",
        "\n",
        "# Contar cuántos son 'private room'\n",
        "nb_private_rooms <- sum(df2$room_type == \"private room\")\n",
        "\n",
        "# Mostrar el resultado\n",
        "cat(\" Número de habitaciones privadas:\", nb_private_rooms, \"\\n\")\n"
      ],
      "metadata": {
        "id": "JaQ_uWpMu3gR"
      },
      "id": "JaQ_uWpMu3gR",
      "execution_count": null,
      "outputs": []
    },
    {
      "cell_type": "code",
      "source": [
        "#¿Cuál es el precio promedio de todos los listados (redondeado al centavo más cercano)?\n",
        "# Limpiar columna price (quitar texto como \" dollars\" y convertir a numérico)\n",
        "df_price$price <- as.numeric(gsub(\"[^0-9.]\", \"\", df_price$price))\n",
        "\n",
        "# Calcular precio promedio redondeado a 2 decimales\n",
        "avg_price <- round(mean(df_price$price, na.rm = TRUE), 2)\n",
        "\n",
        "# Mostrar resultado\n",
        "cat(\" Precio promedio de los listados: $\", avg_price, \"\\n\")"
      ],
      "metadata": {
        "id": "EVi0vs9Zu52d"
      },
      "id": "EVi0vs9Zu52d",
      "execution_count": null,
      "outputs": []
    },
    {
      "cell_type": "code",
      "source": [
        "#Combina estos cuatro valores en un tibble llamado review_dates con cuatro columnas: first_reviewed, last_reviewed, nb_private_rooms y avg_price.\n",
        "#El tibble debe contener solo una fila con los valores.\n",
        "\n",
        "library(dplyr)\n",
        "library(tibble)\n",
        "library(readr)\n",
        "library(readxl)\n",
        "\n",
        "# --- Paso 1: Preparar datos ---\n",
        "\n",
        "# Convertir last_review a Date\n",
        "df$last_review <- as.Date(df$last_review, format = \"%B %d %Y\")\n",
        "\n",
        "# Normalizar room_type a minúsculas\n",
        "df2$room_type <- tolower(df2$room_type)\n",
        "\n",
        "# Limpiar price y convertir a numérico\n",
        "df_price$price <- as.numeric(gsub(\"[^0-9.]\", \"\", df_price$price))\n",
        "\n",
        "# --- Paso 2: Unir los datasets por listing_id ---\n",
        "\n",
        "df_full <- df %>%\n",
        "  inner_join(df2, by = \"listing_id\") %>%\n",
        "  inner_join(df_price, by = \"listing_id\")\n",
        "\n",
        "# --- Paso 3: Calcular los valores solicitados ---\n",
        "\n",
        "first_reviewed <- min(df_full$last_review, na.rm = TRUE)\n",
        "last_reviewed <- max(df_full$last_review, na.rm = TRUE)\n",
        "nb_private_rooms <- sum(df_full$room_type == \"private room\")\n",
        "avg_price <- round(mean(df_full$price, na.rm = TRUE), 2)\n",
        "\n",
        "# --- Paso 4: Crear tibble con una sola fila ---\n",
        "\n",
        "review_dates <- tibble(\n",
        "  first_reviewed = first_reviewed,\n",
        "  last_reviewed = last_reviewed,\n",
        "  nb_private_rooms = nb_private_rooms,\n",
        "  avg_price = avg_price\n",
        ")\n",
        "\n",
        "# --- Paso 5: Mostrar resultado ---\n",
        "\n",
        "print(review_dates)\n"
      ],
      "metadata": {
        "id": "L1vaxd_4u874"
      },
      "id": "L1vaxd_4u874",
      "execution_count": null,
      "outputs": []
    },
    {
      "cell_type": "markdown",
      "id": "vJvnrHFCXdbj",
      "metadata": {
        "id": "vJvnrHFCXdbj"
      },
      "source": [
        "#DESAFIO2: Toronto, Ontario 🌆. La Ciudad Reina. The 6ix.\n",
        "\n",
        "Conocida por su vibrante escena artística, su diversidad cultural, su impresionante horizonte urbano y sus vecindarios llenos de vida, Toronto es una ciudad que nunca duerme. Sin embargo, como en cualquier gran centro urbano, enfrenta sus propios desafíos. Una preocupación creciente para los habitantes de Toronto es el aumento en el número de robos de bicicletas.\n",
        "\n",
        "Has sido invitado a colaborar con el Servicio de Policía de Toronto para analizar y visualizar datos con el fin de descubrir patrones en la actividad de robos. Tus hallazgos e ideas visuales proporcionarán información crucial que podrá ayudar a asignar recursos de manera más efectiva y desarrollar estrategias para combatir los robos de bicicletas, garantizando una ciudad más segura para todos los ciclistas.\n",
        "\n",
        "---\n",
        "\n",
        "## Los Datos\n",
        "\n",
        "El conjunto de datos utilizado para analizar los robos de bicicletas se titula `Cleaned_Bicycle_Thefts_Open_Data.csv` y está ubicado en la carpeta `data`. Este conjunto de datos contiene información esencial sobre incidentes de robo de bicicletas en una ciudad determinada. A continuación se describen los detalles de cada columna:\n",
        "\n",
        "| **Columna**       | **Descripción**                                                                 |\n",
        "|-------------------|---------------------------------------------------------------------------------|\n",
        "| `date`           | La fecha en que ocurrió el robo de la bicicleta, en formato AAAA/MM/DD.          |\n",
        "| `quarter`        | El trimestre del año en que ocurrió el robo (equivale a tres meses).             |\n",
        "| `day_of_week`    | El día de la semana en que ocurrió el robo (por ejemplo, lunes, martes).        |\n",
        "| `neighborhood`   | El vecindario donde ocurrió el robo, basado en los 140 vecindarios planificados socialmente en la ciudad. |\n",
        "| `bike_cost`      | El costo reportado de la bicicleta robada, especificado en la moneda local.     |\n",
        "| `location`       | El tipo específico de ubicación del robo, como estructuras residenciales, áreas comerciales, espacios públicos, etc. |\n",
        "| `long`           | La longitud del centro del vecindario.                                         |\n",
        "| `lat`            | La latitud del centro del vecindario.                                          |\n",
        "\n",
        "Este conjunto de datos ofrece una visión integral de los robos de bicicletas, incluyendo cuándo y dónde ocurren, el impacto financiero y otros factores espaciales y temporales. Al analizar estos datos, puedes obtener valiosos conocimientos sobre patrones y tendencias que informen estrategias para mitigar los robos de bicicletas y mejorar la planificación urbana.\n",
        "\n",
        "---"
      ]
    },
    {
      "cell_type": "code",
      "execution_count": null,
      "id": "CoKxj3U5R9u_",
      "metadata": {
        "id": "CoKxj3U5R9u_"
      },
      "outputs": [],
      "source": [
        "## Load tidyverse package\n",
        "library(tidyverse)\n",
        "## Read `bike_data`\n",
        "bike_data <- read_csv(\"/content/Cleaned_Bicycle_Thefts_Open_Data.csv\")\n",
        "## Take a glance of the `bike_data`\n",
        "head(bike_data)"
      ]
    },
    {
      "cell_type": "code",
      "execution_count": null,
      "id": "jg5UOwzTXrFh",
      "metadata": {
        "id": "jg5UOwzTXrFh"
      },
      "outputs": [],
      "source": []
    },
    {
      "cell_type": "code",
      "execution_count": null,
      "id": "sDspieVojCJr",
      "metadata": {
        "id": "sDspieVojCJr"
      },
      "outputs": [],
      "source": [
        "library(tidyverse)"
      ]
    },
    {
      "cell_type": "code",
      "execution_count": null,
      "id": "qdpJA9gIjEAR",
      "metadata": {
        "id": "qdpJA9gIjEAR"
      },
      "outputs": [],
      "source": [
        "texto <- \"Hola Mundo\""
      ]
    },
    {
      "cell_type": "code",
      "execution_count": null,
      "id": "Ca2u4TYijWhw",
      "metadata": {
        "id": "Ca2u4TYijWhw"
      },
      "outputs": [],
      "source": [
        "# Convertir a mayúsculas\n",
        "mayusculas <- toupper(texto)"
      ]
    },
    {
      "cell_type": "code",
      "execution_count": null,
      "id": "6T0xsYp4jaeK",
      "metadata": {
        "id": "6T0xsYp4jaeK"
      },
      "outputs": [],
      "source": [
        "print(mayusculas)  # \"HOLA MUNDO\""
      ]
    },
    {
      "cell_type": "code",
      "execution_count": null,
      "id": "AvjSMyUOjc-S",
      "metadata": {
        "id": "AvjSMyUOjc-S"
      },
      "outputs": [],
      "source": [
        "# Reemplazar \"Mundo\" con \"R\"\n",
        "reemplazo <- str_replace(texto, \"Mundo\", \"R\")"
      ]
    },
    {
      "cell_type": "code",
      "execution_count": null,
      "id": "ttJHdeTWjoDe",
      "metadata": {
        "id": "ttJHdeTWjoDe"
      },
      "outputs": [],
      "source": [
        "print(reemplazo)   # \"Hola R\""
      ]
    },
    {
      "cell_type": "markdown",
      "id": "9ki798ADStSY",
      "metadata": {
        "id": "9ki798ADStSY"
      },
      "source": [
        "## Actividad 4: Exploración de Tendencias en los Datos\n",
        "\n",
        "Utiliza gráficos para descubrir tendencias significativas dentro del conjunto de datos de robos de bicicletas explorando las siguientes preguntas:\n",
        "\n",
        "1. ¿Qué trimestre, es decir, \"Q1\", \"Q2\", \"Q3\" y \"Q4\", tiene el mayor y menor número de bicicletas robadas? Almacena tus hallazgos como variables de tipo cadena, `high` y `low`.\n",
        "\n",
        "2. ¿Cuáles son las ubicaciones más frecuentes (por ejemplo, residenciales, áreas comerciales) de robos de bicicletas en Toronto? ¿Y qué proporción representan (redondeada a un decimal)? Almacena tus hallazgos como una variable de tipo cadena, `location`, y una variable numérica, `percentage`.\n",
        "\n",
        "3. ¿En qué región de Toronto el valor mediano o la mediana de las bicicletas robadas es el más alto? Almacena tus hallazgos como una variable de tipo cadena, `region` (la región puede ser un nombre real o un código de región, es decir, \"1\", \"2\", \"3\", ...).\n",
        "\n",
        "4. ¿Qué curso de acción recomendarías a la estación de policía basándote en tus hallazgos? Almacena tu recomendación como una variable de tipo cadena, `action`.\n"
      ]
    },
    {
      "cell_type": "code",
      "source": [
        "library(tidyverse)\n",
        "library(lubridate)\n",
        "\n",
        "# Cargar datos\n",
        "data <- read_csv(\"/content/Cleaned_Bicycle_Thefts_Open_Data.csv\")\n",
        "\n",
        "# Ver las primeras filas para entender la estructura\n",
        "head(data)\n"
      ],
      "metadata": {
        "id": "6TzawKgIyrMC"
      },
      "id": "6TzawKgIyrMC",
      "execution_count": null,
      "outputs": []
    },
    {
      "cell_type": "code",
      "source": [
        "library(tidyverse)\n",
        "library(lubridate)\n",
        "\n",
        "# Leer con delimitador coma y sin encabezado\n",
        "data <- read_delim(\"/content/Cleaned_Bicycle_Thefts_Open_Data.csv\",\n",
        "                   delim = \",\", col_names = FALSE, show_col_types = FALSE)\n",
        "\n",
        "# Asignar nombres correctos\n",
        "colnames(data) <- c(\"Occurrence_Date\", \"Report_Date\", \"Weekday\",\n",
        "                    \"Neighborhood\", \"Value\", \"Location_Type\", \"Longitude\", \"Latitude\")\n"
      ],
      "metadata": {
        "id": "QUEcM1N1zsXC"
      },
      "id": "QUEcM1N1zsXC",
      "execution_count": null,
      "outputs": []
    },
    {
      "cell_type": "code",
      "source": [
        "data <- read_delim(\n",
        "  \"/content/Cleaned_Bicycle_Thefts_Open_Data.csv\",\n",
        "  delim = \",\",\n",
        "  col_names = FALSE,\n",
        "  show_col_types = FALSE,\n",
        "  skip = 1,     # en caso de encabezado inválido\n",
        "  na = c(\"\", \"NA\"),\n",
        "  col_types = cols(.default = \"c\")  # leer todo como texto para evitar errores\n",
        ") %>%\n",
        "  filter(str_count(X1, \",\") == 7)  # asegurarse de que cada fila tenga 8 columnas\n"
      ],
      "metadata": {
        "id": "0f98doh80YI4"
      },
      "id": "0f98doh80YI4",
      "execution_count": null,
      "outputs": []
    },
    {
      "cell_type": "code",
      "source": [
        "data <- data %>%\n",
        "  separate(X1, into = c(\"Occurrence_Date\", \"Report_Date\", \"Weekday\",\n",
        "                        \"Neighborhood\", \"Value\", \"Location_Type\",\n",
        "                        \"Longitude\", \"Latitude\"), sep = \",\")\n"
      ],
      "metadata": {
        "id": "SytQNVvu0cbQ"
      },
      "id": "SytQNVvu0cbQ",
      "execution_count": null,
      "outputs": []
    },
    {
      "cell_type": "code",
      "source": [
        "data <- read_csv(\n",
        "  \"/content/Cleaned_Bicycle_Thefts_Open_Data.csv\",\n",
        "  col_names = FALSE,\n",
        "  show_col_types = FALSE,\n",
        "  na = c(\"\", \"NA\"),\n",
        "  col_types = cols(.default = col_character()),\n",
        "  progress = FALSE\n",
        ")\n",
        "\n",
        "# Filtrar filas correctamente estructuradas\n",
        "data <- data %>% filter(str_count(X1, \",\") == 7)\n",
        "\n",
        "# Separar columnas\n",
        "data <- data %>%\n",
        "  separate(X1, into = c(\"Occurrence_Date\", \"Report_Date\", \"Weekday\",\n",
        "                        \"Neighborhood\", \"Value\", \"Location_Type\",\n",
        "                        \"Longitude\", \"Latitude\"), sep = \",\")\n"
      ],
      "metadata": {
        "id": "Tp3c3-YJ0hjp"
      },
      "id": "Tp3c3-YJ0hjp",
      "execution_count": null,
      "outputs": []
    },
    {
      "cell_type": "code",
      "source": [
        "# Convertir tipos y continuar el análisis\n",
        "data <- data %>%\n",
        "  mutate(\n",
        "    Occurrence_Date = as.Date(Occurrence_Date, format = \"%Y-%m-%d\"),\n",
        "    Quarter = paste0(\"Q\", quarter(Occurrence_Date)),\n",
        "    Region = str_extract(Neighborhood, \"\\\\((\\\\d+)\\\\)\") %>% str_remove_all(\"[()]\"),\n",
        "    Value = as.numeric(Value),\n",
        "    Num_Bikes_Stolen = 1\n",
        "  )\n"
      ],
      "metadata": {
        "id": "oThqoWcx0l_m"
      },
      "id": "oThqoWcx0l_m",
      "execution_count": null,
      "outputs": []
    },
    {
      "cell_type": "code",
      "execution_count": null,
      "id": "EgDqhpvpjo4J",
      "metadata": {
        "id": "EgDqhpvpjo4J"
      },
      "outputs": [],
      "source": [
        "#¿Qué trimestre, es decir, \"Q1\", \"Q2\", \"Q3\" y \"Q4\", tiene el mayor y menor número de bicicletas robadas? Almacena tus hallazgos como variables de tipo cadena, high y low.\n",
        "library(dplyr)\n",
        "library(lubridate)\n",
        "\n",
        "# Asegúrate de tener la columna Occurrence_Date como tipo Date y columna Quarter creada\n",
        "data <- data %>%\n",
        "  mutate(\n",
        "    Occurrence_Date = as.Date(Occurrence_Date, format = \"%Y-%m-%d\"),\n",
        "    Quarter = paste0(\"Q\", quarter(Occurrence_Date))\n",
        "  )\n",
        "\n",
        "# Contar robos por trimestre\n",
        "robos_por_trimestre <- data %>%\n",
        "  count(Quarter)\n",
        "\n",
        "# Encontrar el trimestre con más robos\n",
        "high <- robos_por_trimestre %>%\n",
        "  filter(n == max(n)) %>%\n",
        "  pull(Quarter) %>%\n",
        "  as.character()\n",
        "\n",
        "# Encontrar el trimestre con menos robos\n",
        "low <- robos_por_trimestre %>%\n",
        "  filter(n == min(n)) %>%\n",
        "  pull(Quarter) %>%\n",
        "  as.character()\n",
        "\n",
        "library(ggplot2)\n",
        "\n",
        "ggplot(robos_por_trimestre, aes(x = Quarter, y = n, fill = Quarter)) +\n",
        "  geom_col() +\n",
        "  labs(title = \"Cantidad de Robos por Trimestre\", x = \"Trimestre\", y = \"Número de Robos\") +\n",
        "  theme_minimal()\n"
      ]
    },
    {
      "cell_type": "code",
      "source": [
        "#¿Cuáles son las ubicaciones más frecuentes (por ejemplo, residenciales, áreas comerciales) de robos de bicicletas en Toronto? ¿Y qué proporción representan (redondeada a un decimal)? Almacena tus hallazgos como una variable de tipo cadena, location, y una variable numérica, percentage.\n",
        "library(dplyr)\n",
        "\n",
        "# Contar robos por tipo de ubicación\n",
        "ubicaciones <- data %>%\n",
        "  count(Location_Type) %>%\n",
        "  arrange(desc(n))\n",
        "\n",
        "# Obtener la ubicación más frecuente\n",
        "location <- ubicaciones$Location_Type[1] %>% as.character()\n",
        "\n",
        "# Calcular el porcentaje que representa\n",
        "total_robos <- sum(ubicaciones$n)\n",
        "percentage <- round((ubicaciones$n[1] / total_robos) * 100, 1)\n",
        "\n",
        "library(ggplot2)\n",
        "\n",
        "ggplot(ubicaciones, aes(x = reorder(Location_Type, n), y = n)) +\n",
        "  geom_col(fill = \"steelblue\") +\n",
        "  coord_flip() +\n",
        "  labs(title = \"Robos por Tipo de Ubicación\", x = \"Ubicación\", y = \"Cantidad\") +\n",
        "  theme_minimal()\n"
      ],
      "metadata": {
        "id": "r38rdkj0yfil"
      },
      "id": "r38rdkj0yfil",
      "execution_count": null,
      "outputs": []
    },
    {
      "cell_type": "code",
      "source": [
        "#¿En qué región de Toronto el valor mediano o la mediana de las bicicletas robadas es el más alto? Almacena tus hallazgos como una variable de tipo cadena, region (la región puede ser un nombre real o un código de región, es decir, \"1\", \"2\", \"3\", ...).\n",
        "library(dplyr)\n",
        "\n",
        "# Asegurarse de que Value es numérico y Region está limpia\n",
        "data <- data %>%\n",
        "  mutate(\n",
        "    Value = as.numeric(Value),\n",
        "    Region = stringr::str_extract(Neighborhood, \"\\\\((\\\\d+)\\\\)\") %>% stringr::str_remove_all(\"[()]\")\n",
        "  )\n",
        "\n",
        "# Calcular la mediana de valores por región\n",
        "region_mediana_valor <- data %>%\n",
        "  group_by(Region) %>%\n",
        "  summarise(mediana_valor = median(Value, na.rm = TRUE)) %>%\n",
        "  arrange(desc(mediana_valor))\n",
        "\n",
        "# Obtener la región con la mediana más alta\n",
        "region <- region_mediana_valor$Region[1] %>% as.character()\n",
        "\n",
        "library(ggplot2)\n",
        "\n",
        "ggplot(region_mediana_valor, aes(x = reorder(Region, mediana_valor), y = mediana_valor)) +\n",
        "  geom_col(fill = \"darkred\") +\n",
        "  coord_flip() +\n",
        "  labs(title = \"Mediana del Valor de Bicicletas Robadas por Región\",\n",
        "       x = \"Región\", y = \"Valor mediano\") +\n",
        "  theme_minimal()\n"
      ],
      "metadata": {
        "id": "sxFvnBveyjR1"
      },
      "id": "sxFvnBveyjR1",
      "execution_count": null,
      "outputs": []
    },
    {
      "cell_type": "code",
      "source": [
        "#¿Qué curso de acción recomendarías a la estación de policía basándote en tus hallazgos? Almacena tu recomendación como una variable de tipo cadena, action.\n",
        "action <- paste0(\n",
        "  \"Recomiendo a la estación de policía enfocar sus esfuerzos de patrullaje y prevención durante el trimestre \", high,\n",
        "  \", que presentó el mayor número de robos. Es prioritario aumentar la vigilancia en las zonas clasificadas como '\", location,\n",
        "  \"', ya que estas concentran el \", percentage, \"% de los incidentes. Asimismo, se sugiere destinar recursos adicionales a la región \", region,\n",
        "  \", donde el valor mediano de las bicicletas robadas es el más alto, indicando posibles robos dirigidos a objetivos de mayor valor económico.\"\n",
        ")\n",
        "# Mostrar resultados finales\n",
        "cat(\" Trimestre con más robos: \", high, \"\\n\")\n",
        "cat(\" Trimestre con menos robos: \", low, \"\\n\")\n",
        "cat(\" Ubicación más frecuente: \", location, \"\\n\")\n",
        "cat(\" Proporción de robos en esa ubicación: \", percentage, \"%\\n\")\n",
        "cat(\" Región con bicicletas de mayor valor mediano: \", region, \"\\n\")\n",
        "cat(\" Recomendación a la policía:\\n\", action, \"\\n\")\n"
      ],
      "metadata": {
        "id": "WxbKai76yoq4"
      },
      "id": "WxbKai76yoq4",
      "execution_count": null,
      "outputs": []
    }
  ],
  "metadata": {
    "colab": {
      "provenance": [],
      "include_colab_link": true
    },
    "editor": "DataCamp Workspace",
    "kernelspec": {
      "display_name": "R",
      "name": "ir"
    },
    "language_info": {
      "name": "R"
    }
  },
  "nbformat": 4,
  "nbformat_minor": 5
}